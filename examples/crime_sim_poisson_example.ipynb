{
  "nbformat": 4,
  "nbformat_minor": 0,
  "metadata": {
    "colab": {
      "name": "crime_sim_poisson_example.ipynb",
      "version": "0.3.2",
      "provenance": [],
      "collapsed_sections": [],
      "include_colab_link": true
    },
    "kernelspec": {
      "name": "python3",
      "display_name": "Python 3"
    }
  },
  "cells": [
    {
      "cell_type": "markdown",
      "metadata": {
        "id": "view-in-github",
        "colab_type": "text"
      },
      "source": [
        "<a href=\"https://colab.research.google.com/github/Sparrow0hawk/Bayesian-Modelling-in-Python/blob/master/examples/crime_sim_poisson_example.ipynb\" target=\"_parent\"><img src=\"https://colab.research.google.com/assets/colab-badge.svg\" alt=\"Open In Colab\"/></a>"
      ]
    },
    {
      "cell_type": "code",
      "metadata": {
        "id": "kCsrkCddRUpi",
        "colab_type": "code",
        "colab": {}
      },
      "source": [
        "# notebook for import our crime sim module and running some tests"
      ],
      "execution_count": 0,
      "outputs": []
    },
    {
      "cell_type": "markdown",
      "metadata": {
        "id": "XgFA3CtTbiwQ",
        "colab_type": "text"
      },
      "source": [
        "## Notes on running\n",
        "\n",
        "For this to run successfully follow these steps:\n",
        "\n",
        "\n",
        "1.   Git clone the repo into the root dir\n",
        "2.   Run pip install within the downloaded repo\n",
        "3.   Reset the local runtime to allow for pip packages installed to work\n",
        "4.   Then run python setup.py install on downloaded repo\n",
        "\n",
        "The package should now be useable within the notebook.\n",
        "\n"
      ]
    },
    {
      "cell_type": "code",
      "metadata": {
        "id": "Aha_nz-SRX56",
        "colab_type": "code",
        "outputId": "1f8173bb-2f41-4657-8813-cdc445f65ce6",
        "colab": {
          "base_uri": "https://localhost:8080/",
          "height": 164
        }
      },
      "source": [
        "%cd ~/\n",
        "\n",
        "! git clone https://github.com/Sparrow0hawk/crime_sim_toolkit.git"
      ],
      "execution_count": 3,
      "outputs": [
        {
          "output_type": "stream",
          "text": [
            "/root\n",
            "Cloning into 'crime_sim_toolkit'...\n",
            "remote: Enumerating objects: 230, done.\u001b[K\n",
            "remote: Counting objects: 100% (230/230), done.\u001b[K\n",
            "remote: Compressing objects: 100% (150/150), done.\u001b[K\n",
            "remote: Total 230 (delta 120), reused 180 (delta 74), pack-reused 0\u001b[K\n",
            "Receiving objects: 100% (230/230), 19.67 MiB | 22.63 MiB/s, done.\n",
            "Resolving deltas: 100% (120/120), done.\n"
          ],
          "name": "stdout"
        }
      ]
    },
    {
      "cell_type": "code",
      "metadata": {
        "id": "J6ezywTXRnbX",
        "colab_type": "code",
        "outputId": "858f5846-d5c2-4121-d62c-06c57b156383",
        "colab": {
          "base_uri": "https://localhost:8080/",
          "height": 329
        }
      },
      "source": [
        "%cd ~/crime_sim_toolkit\n",
        "\n",
        "!pip install -q -r requirements.txt"
      ],
      "execution_count": 4,
      "outputs": [
        {
          "output_type": "stream",
          "text": [
            "/root/crime_sim_toolkit\n",
            "\u001b[K     |████████████████████████████████| 215kB 4.2MB/s \n",
            "\u001b[K     |████████████████████████████████| 92kB 27.7MB/s \n",
            "\u001b[K     |████████████████████████████████| 13.1MB 50.4MB/s \n",
            "\u001b[K     |████████████████████████████████| 20.4MB 1.7MB/s \n",
            "\u001b[K     |████████████████████████████████| 10.5MB 32.6MB/s \n",
            "\u001b[K     |████████████████████████████████| 235kB 47.2MB/s \n",
            "\u001b[K     |████████████████████████████████| 512kB 47.7MB/s \n",
            "\u001b[K     |████████████████████████████████| 61kB 22.9MB/s \n",
            "\u001b[K     |████████████████████████████████| 153kB 44.5MB/s \n",
            "\u001b[31mERROR: kaggle 1.5.5 has requirement urllib3<1.25,>=1.21.1, but you'll have urllib3 1.25.3 which is incompatible.\u001b[0m\n",
            "\u001b[31mERROR: google-colab 1.0.0 has requirement pandas~=0.24.0, but you'll have pandas 0.25.0 which is incompatible.\u001b[0m\n",
            "\u001b[31mERROR: google-colab 1.0.0 has requirement requests~=2.21.0, but you'll have requests 2.22.0 which is incompatible.\u001b[0m\n",
            "\u001b[31mERROR: datascience 0.10.6 has requirement coverage==3.7.1, but you'll have coverage 4.5.4 which is incompatible.\u001b[0m\n",
            "\u001b[31mERROR: datascience 0.10.6 has requirement folium==0.2.1, but you'll have folium 0.10.0 which is incompatible.\u001b[0m\n",
            "\u001b[31mERROR: coveralls 0.5 has requirement coverage<3.999,>=3.6, but you'll have coverage 4.5.4 which is incompatible.\u001b[0m\n",
            "\u001b[31mERROR: albumentations 0.1.12 has requirement imgaug<0.2.7,>=0.2.5, but you'll have imgaug 0.2.9 which is incompatible.\u001b[0m\n",
            "\u001b[?25h"
          ],
          "name": "stdout"
        }
      ]
    },
    {
      "cell_type": "markdown",
      "metadata": {
        "id": "3Nf4DMs2YRkE",
        "colab_type": "text"
      },
      "source": [
        "# RESTART RUNTIME"
      ]
    },
    {
      "cell_type": "code",
      "metadata": {
        "id": "bD-ZF-Hya4Lq",
        "colab_type": "code",
        "colab": {
          "base_uri": "https://localhost:8080/",
          "height": 54
        },
        "outputId": "345ca10d-670f-470f-880d-8d089f0d5f86"
      },
      "source": [
        "%cd ~/crime_sim_toolkit\n",
        "\n",
        "!python setup.py -q install"
      ],
      "execution_count": 1,
      "outputs": [
        {
          "output_type": "stream",
          "text": [
            "/root/crime_sim_toolkit\n",
            "zip_safe flag not set; analyzing archive contents...\n"
          ],
          "name": "stdout"
        }
      ]
    },
    {
      "cell_type": "code",
      "metadata": {
        "id": "Ie_tNRIYSFTe",
        "colab_type": "code",
        "outputId": "c0cb1d13-c19e-47f0-bcd0-231c48ce1639",
        "colab": {
          "base_uri": "https://localhost:8080/",
          "height": 146
        }
      },
      "source": [
        "import crime_sim_toolkit.poisson_sim as Poisson_sim\n",
        "import os\n",
        "import sys\n",
        "\n",
        "\n",
        "sim1 = Poisson_sim.Poisson_sim(LA_names=['Kirklees','Calderdale','Leeds','Bradford','Wakefield'], timeframe='Day')"
      ],
      "execution_count": 2,
      "outputs": [
        {
          "output_type": "stream",
          "text": [
            "Fetching count data from police reports.\n",
            "Sit back and have a brew, this may take sometime.\n",
            " \n",
            "Number of data files found:  0\n",
            "No files found in data folder.\n",
            "Defaulting to test data.\n",
            "Psuedo days allocated to all reports.\n"
          ],
          "name": "stdout"
        }
      ]
    },
    {
      "cell_type": "code",
      "metadata": {
        "id": "19KyR5ZObINn",
        "colab_type": "code",
        "colab": {
          "base_uri": "https://localhost:8080/",
          "height": 206
        },
        "outputId": "25a1cc2a-7016-4b27-ba93-e8de30050f73"
      },
      "source": [
        "sim1.data.head()"
      ],
      "execution_count": 3,
      "outputs": [
        {
          "output_type": "execute_result",
          "data": {
            "text/html": [
              "<div>\n",
              "<style scoped>\n",
              "    .dataframe tbody tr th:only-of-type {\n",
              "        vertical-align: middle;\n",
              "    }\n",
              "\n",
              "    .dataframe tbody tr th {\n",
              "        vertical-align: top;\n",
              "    }\n",
              "\n",
              "    .dataframe thead th {\n",
              "        text-align: right;\n",
              "    }\n",
              "</style>\n",
              "<table border=\"1\" class=\"dataframe\">\n",
              "  <thead>\n",
              "    <tr style=\"text-align: right;\">\n",
              "      <th></th>\n",
              "      <th>Counts</th>\n",
              "      <th>Crime_type</th>\n",
              "      <th>Day</th>\n",
              "      <th>LSOA_code</th>\n",
              "      <th>Mon</th>\n",
              "      <th>Year</th>\n",
              "    </tr>\n",
              "  </thead>\n",
              "  <tbody>\n",
              "    <tr>\n",
              "      <th>0</th>\n",
              "      <td>1</td>\n",
              "      <td>Anti-social behaviour</td>\n",
              "      <td>26</td>\n",
              "      <td>E01010568</td>\n",
              "      <td>7</td>\n",
              "      <td>2016</td>\n",
              "    </tr>\n",
              "    <tr>\n",
              "      <th>1</th>\n",
              "      <td>2</td>\n",
              "      <td>Anti-social behaviour</td>\n",
              "      <td>1</td>\n",
              "      <td>E01010569</td>\n",
              "      <td>7</td>\n",
              "      <td>2016</td>\n",
              "    </tr>\n",
              "    <tr>\n",
              "      <th>2</th>\n",
              "      <td>2</td>\n",
              "      <td>Anti-social behaviour</td>\n",
              "      <td>8</td>\n",
              "      <td>E01010569</td>\n",
              "      <td>7</td>\n",
              "      <td>2016</td>\n",
              "    </tr>\n",
              "    <tr>\n",
              "      <th>3</th>\n",
              "      <td>2</td>\n",
              "      <td>Anti-social behaviour</td>\n",
              "      <td>18</td>\n",
              "      <td>E01010569</td>\n",
              "      <td>7</td>\n",
              "      <td>2016</td>\n",
              "    </tr>\n",
              "    <tr>\n",
              "      <th>4</th>\n",
              "      <td>2</td>\n",
              "      <td>Anti-social behaviour</td>\n",
              "      <td>23</td>\n",
              "      <td>E01010569</td>\n",
              "      <td>7</td>\n",
              "      <td>2016</td>\n",
              "    </tr>\n",
              "  </tbody>\n",
              "</table>\n",
              "</div>"
            ],
            "text/plain": [
              "   Counts             Crime_type  Day  LSOA_code  Mon  Year\n",
              "0       1  Anti-social behaviour   26  E01010568    7  2016\n",
              "1       2  Anti-social behaviour    1  E01010569    7  2016\n",
              "2       2  Anti-social behaviour    8  E01010569    7  2016\n",
              "3       2  Anti-social behaviour   18  E01010569    7  2016\n",
              "4       2  Anti-social behaviour   23  E01010569    7  2016"
            ]
          },
          "metadata": {
            "tags": []
          },
          "execution_count": 3
        }
      ]
    },
    {
      "cell_type": "code",
      "metadata": {
        "id": "Q4b95m66HZoM",
        "colab_type": "code",
        "colab": {
          "base_uri": "https://localhost:8080/",
          "height": 54
        },
        "outputId": "9950f1e5-9d38-4e7e-dc81-103985349e28"
      },
      "source": [
        "test_data = sim1.out_of_bag_prep(sim1.data)\n",
        "\n",
        "train_data = sim1.oob_train_split(sim1.data, test_data)\n"
      ],
      "execution_count": 5,
      "outputs": [
        {
          "output_type": "stream",
          "text": [
            "The passed data does not appear to have a full years (Jan-Dec) worth of data.\n",
            "Defaulting to select out-of-bag sample for most recent year.\n"
          ],
          "name": "stdout"
        }
      ]
    },
    {
      "cell_type": "code",
      "metadata": {
        "id": "TfFrb8MghxuP",
        "colab_type": "code",
        "outputId": "c0d5f369-e31d-4896-ea1c-ec72f736547f",
        "colab": {
          "base_uri": "https://localhost:8080/",
          "height": 641
        }
      },
      "source": [
        "%%time\n",
        "\n",
        "datat = sim1.SimplePoission(train_data, test_data)"
      ],
      "execution_count": 6,
      "outputs": [
        {
          "output_type": "stream",
          "text": [
            "Beginning sampling.\n",
            "Month: 7 Day: 1\n",
            "Month: 7 Day: 2\n",
            "Month: 7 Day: 3\n",
            "Month: 7 Day: 4\n",
            "Month: 7 Day: 5\n",
            "Month: 7 Day: 6\n",
            "Month: 7 Day: 7\n",
            "Month: 7 Day: 8\n",
            "Month: 7 Day: 9\n",
            "Month: 7 Day: 10\n",
            "Month: 7 Day: 11\n",
            "Month: 7 Day: 12\n",
            "Month: 7 Day: 13\n",
            "Month: 7 Day: 14\n",
            "Month: 7 Day: 15\n",
            "Month: 7 Day: 16\n",
            "Month: 7 Day: 17\n",
            "Month: 7 Day: 18\n",
            "Month: 7 Day: 19\n",
            "Month: 7 Day: 20\n",
            "Month: 7 Day: 21\n",
            "Month: 7 Day: 22\n",
            "Month: 7 Day: 23\n",
            "Month: 7 Day: 24\n",
            "Month: 7 Day: 25\n",
            "Month: 7 Day: 26\n",
            "Month: 7 Day: 27\n",
            "Month: 7 Day: 28\n",
            "Month: 7 Day: 29\n",
            "Month: 7 Day: 30\n",
            "Month: 7 Day: 31\n",
            "CPU times: user 16min 58s, sys: 10.7 s, total: 17min 9s\n",
            "Wall time: 16min 52s\n"
          ],
          "name": "stdout"
        }
      ]
    },
    {
      "cell_type": "code",
      "metadata": {
        "id": "3qwlSGBjMdSf",
        "colab_type": "code",
        "colab": {
          "base_uri": "https://localhost:8080/",
          "height": 206
        },
        "outputId": "9ecb5c3f-7a0d-4190-afb2-0f271867378f"
      },
      "source": [
        "datat.head()"
      ],
      "execution_count": 14,
      "outputs": [
        {
          "output_type": "execute_result",
          "data": {
            "text/html": [
              "<div>\n",
              "<style scoped>\n",
              "    .dataframe tbody tr th:only-of-type {\n",
              "        vertical-align: middle;\n",
              "    }\n",
              "\n",
              "    .dataframe tbody tr th {\n",
              "        vertical-align: top;\n",
              "    }\n",
              "\n",
              "    .dataframe thead th {\n",
              "        text-align: right;\n",
              "    }\n",
              "</style>\n",
              "<table border=\"1\" class=\"dataframe\">\n",
              "  <thead>\n",
              "    <tr style=\"text-align: right;\">\n",
              "      <th></th>\n",
              "      <th>Day</th>\n",
              "      <th>Mon</th>\n",
              "      <th>Crime type</th>\n",
              "      <th>Counts</th>\n",
              "      <th>LSOA_code</th>\n",
              "    </tr>\n",
              "  </thead>\n",
              "  <tbody>\n",
              "    <tr>\n",
              "      <th>0</th>\n",
              "      <td>1</td>\n",
              "      <td>7</td>\n",
              "      <td>Anti-social behaviour</td>\n",
              "      <td>1</td>\n",
              "      <td>E01010569</td>\n",
              "    </tr>\n",
              "    <tr>\n",
              "      <th>1</th>\n",
              "      <td>1</td>\n",
              "      <td>7</td>\n",
              "      <td>Anti-social behaviour</td>\n",
              "      <td>3</td>\n",
              "      <td>E01010577</td>\n",
              "    </tr>\n",
              "    <tr>\n",
              "      <th>2</th>\n",
              "      <td>1</td>\n",
              "      <td>7</td>\n",
              "      <td>Anti-social behaviour</td>\n",
              "      <td>0</td>\n",
              "      <td>E01010590</td>\n",
              "    </tr>\n",
              "    <tr>\n",
              "      <th>3</th>\n",
              "      <td>1</td>\n",
              "      <td>7</td>\n",
              "      <td>Anti-social behaviour</td>\n",
              "      <td>0</td>\n",
              "      <td>E01010595</td>\n",
              "    </tr>\n",
              "    <tr>\n",
              "      <th>4</th>\n",
              "      <td>1</td>\n",
              "      <td>7</td>\n",
              "      <td>Anti-social behaviour</td>\n",
              "      <td>0</td>\n",
              "      <td>E01010601</td>\n",
              "    </tr>\n",
              "  </tbody>\n",
              "</table>\n",
              "</div>"
            ],
            "text/plain": [
              "   Day  Mon             Crime type  Counts  LSOA_code\n",
              "0    1    7  Anti-social behaviour       1  E01010569\n",
              "1    1    7  Anti-social behaviour       3  E01010577\n",
              "2    1    7  Anti-social behaviour       0  E01010590\n",
              "3    1    7  Anti-social behaviour       0  E01010595\n",
              "4    1    7  Anti-social behaviour       0  E01010601"
            ]
          },
          "metadata": {
            "tags": []
          },
          "execution_count": 14
        }
      ]
    },
    {
      "cell_type": "code",
      "metadata": {
        "id": "T6h29Ht-o37e",
        "colab_type": "code",
        "colab": {
          "base_uri": "https://localhost:8080/",
          "height": 334
        },
        "outputId": "e9294e49-e6c3-40d0-e494-5c5bc0322b9d"
      },
      "source": [
        "diff_table = sim1.error_Reporting(test_data=test_data, simulated_data=datat)"
      ],
      "execution_count": 37,
      "outputs": [
        {
          "output_type": "stream",
          "text": [
            "Root mean squared error of poisson sampler:  1.2\n",
            "Mean absolute error:  0.7\n",
            "Median absolute error:  0.0\n"
          ],
          "name": "stdout"
        },
        {
          "output_type": "display_data",
          "data": {
            "image/png": "[encoded data removed]",
            "text/plain": [
              "<Figure size 432x288 with 1 Axes>"
            ]
          },
          "metadata": {
            "tags": []
          }
        }
      ]
    },
    {
      "cell_type": "code",
      "metadata": {
        "id": "zD1q1lURf8te",
        "colab_type": "code",
        "colab": {}
      },
      "source": [
        ""
      ],
      "execution_count": 0,
      "outputs": []
    }
  ]
}